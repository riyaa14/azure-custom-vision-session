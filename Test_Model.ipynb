{
  "nbformat": 4,
  "nbformat_minor": 0,
  "metadata": {
    "colab": {
      "provenance": [],
      "authorship_tag": "ABX9TyORCALkAfUTtP+NN3quBO8L",
      "include_colab_link": true
    },
    "kernelspec": {
      "name": "python3",
      "display_name": "Python 3"
    },
    "language_info": {
      "name": "python"
    }
  },
  "cells": [
    {
      "cell_type": "markdown",
      "metadata": {
        "id": "view-in-github",
        "colab_type": "text"
      },
      "source": [
        "<a href=\"https://colab.research.google.com/github/riyaa14/azure-custom-vision-session/blob/main/Test_Model.ipynb\" target=\"_parent\"><img src=\"https://colab.research.google.com/assets/colab-badge.svg\" alt=\"Open In Colab\"/></a>"
      ]
    },
    {
      "cell_type": "code",
      "execution_count": 1,
      "metadata": {
        "colab": {
          "base_uri": "https://localhost:8080/"
        },
        "id": "Hg1P9ZAcsa16",
        "outputId": "b74a7638-59e9-430b-981e-b988d2f8c4de"
      },
      "outputs": [
        {
          "output_type": "stream",
          "name": "stdout",
          "text": [
            "Collecting python-dotenv\n",
            "  Downloading python_dotenv-1.0.1-py3-none-any.whl (19 kB)\n",
            "Installing collected packages: python-dotenv\n",
            "Successfully installed python-dotenv-1.0.1\n"
          ]
        }
      ],
      "source": [
        "!pip install python-dotenv"
      ]
    },
    {
      "cell_type": "code",
      "source": [
        "from dotenv import load_dotenv\n",
        "import os\n",
        "\n",
        "# Load environment variables from .env file\n",
        "load_dotenv()\n",
        "\n",
        "# Access loaded environment variables\n",
        "endpoint = os.getenv('ENDPOINT_URL')\n",
        "subscription_key = os.getenv('PREDICTION_KEY')"
      ],
      "metadata": {
        "id": "BfSXJ6HttYDg"
      },
      "execution_count": 2,
      "outputs": []
    },
    {
      "cell_type": "code",
      "source": [
        "import requests\n",
        "\n",
        "# URL of the image you want to predict\n",
        "image_url = \"https://image.petmd.com/files/styles/978x550/public/2024-02/shorkie-dog.jpg\"\n",
        "\n",
        "# Prepare headers with subscription key\n",
        "headers = {\n",
        "    \"Prediction-Key\": subscription_key,\n",
        "    \"Content-Type\": \"application/json\"\n",
        "}\n",
        "\n",
        "# Prepare data for the request\n",
        "data = {\"url\": image_url}\n",
        "\n",
        "# Make prediction request\n",
        "response = requests.post(endpoint, headers=headers, json=data)\n",
        "\n",
        "# Handle the response\n",
        "if response.status_code == 200:\n",
        "    predictions = response.json()\n",
        "    print(predictions)\n",
        "else:\n",
        "    print(\"Prediction failed with status code:\", response.status_code)\n",
        "    print(response.text)\n"
      ],
      "metadata": {
        "colab": {
          "base_uri": "https://localhost:8080/"
        },
        "id": "uXLEvPzzudOl",
        "outputId": "16889352-6efa-48bf-f3dc-14ad5aba92c0"
      },
      "execution_count": 5,
      "outputs": [
        {
          "output_type": "stream",
          "name": "stdout",
          "text": [
            "{\"id\":\"1fb4f1ef-4c66-49aa-acde-f27aa87c87c3\",\"project\":\"27083f7b-2704-40d5-bd58-9d20b147673a\",\"iteration\":\"7b22243d-c661-4db6-9012-70d27d746bf2\",\"created\":\"2024-06-29T11:25:38.778Z\",\"predictions\":[{\"probability\":0.65603995,\"tagId\":\"a14f7789-a216-4877-98e8-7eb7d4c03f53\",\"tagName\":\"buggle\"},{\"probability\":0.19087523,\"tagId\":\"48268eda-ecd5-4fea-aea6-34b444ffd932\",\"tagName\":\"shorkie\"},{\"probability\":0.09733551,\"tagId\":\"5a3980e9-9cca-4059-aff3-c320a25b464a\",\"tagName\":\"german-wirehaired-pointer\"},{\"probability\":0.053004503,\"tagId\":\"bd526ba7-849f-4289-b3b7-4190c1dd6a0e\",\"tagName\":\"australian-shepherd\"},{\"probability\":0.002744859,\"tagId\":\"94d5919e-74ef-4aed-bb7b-5b01b2ac4e06\",\"tagName\":\"american-staffordshire-terrier\"}]}\n"
          ]
        }
      ]
    },
    {
      "cell_type": "markdown",
      "source": [
        "# New Section"
      ],
      "metadata": {
        "id": "b6GQJBItsp6K"
      }
    }
  ]
}